{
  "nbformat": 4,
  "nbformat_minor": 0,
  "metadata": {
    "colab": {
      "provenance": [],
      "collapsed_sections": []
    },
    "kernelspec": {
      "name": "python3",
      "display_name": "Python 3"
    },
    "language_info": {
      "name": "python"
    }
  },
  "cells": [
    {
      "cell_type": "code",
      "source": [
        "import jax.numpy as jnp\n",
        "import numpy as np\n",
        "from jax import grad, jit, vmap, lax\n",
        "import matplotlib.pyplot as plt\n",
        "from scipy.ndimage import convolve\n",
        "\n",
        "from math import sqrt\n",
        "import threading"
      ],
      "metadata": {
        "id": "1KeU4Nwy5Dnn"
      },
      "execution_count": 1,
      "outputs": []
    },
    {
      "cell_type": "code",
      "execution_count": 2,
      "metadata": {
        "id": "xK-xezmS3152"
      },
      "outputs": [],
      "source": [
        "#@title Define helper functions\n",
        "#@markdown JAX requires code to be purely functional, with no opbject oriented\n",
        "#@markdown programming. \n",
        "# Gives time of closest approach\n",
        "def closest(pit, pos0, vel):\n",
        "    vx, vy = vel\n",
        "    px, py = pit\n",
        "    x0, y0 = pos0\n",
        "\n",
        "    temp = 2 * vx * px - 2 * vx * x0 \\\n",
        "         + 2 * vy * py - 2 * vy * y0\n",
        "\n",
        "    temp2 = 2 * vx * vx + 2 * vy * vy\n",
        "\n",
        "    # Returns 0 if ball isn't moving or is moving away from the pit\n",
        "    return lax.cond(temp2 == 0 or temp < 0, lambda x,y : 0.0, lambda x, y: x/y, temp, temp2)\n",
        "\n",
        "def dist_sq(pit, pos0, vel, t):\n",
        "    vx, vy = vel\n",
        "    px, py = pit\n",
        "    x0, y0 = pos0\n",
        "\n",
        "    x_dist = px - (x0 + vx*t)\n",
        "    y_dist = py - (y0 + vy*t)\n",
        "\n",
        "    return x_dist**2 + y_dist**2\n",
        "\n",
        "def dist(pit, pos0, vel, t):\n",
        "    d_sq = dist_sq(pit, pos0, vel, t)\n",
        "    return lax.sqrt(d_sq)\n",
        "\n",
        "def min_dist_sq(pit, pos, vel):\n",
        "    t = closest(pit, pos, vel)\n",
        "    return dist_sq(pit, pos, vel, t)\n",
        "\n",
        "def min_dist(pit, pos, vel):\n",
        "    t = closest(pit, pos, vel)\n",
        "    return dist(pit, pos, vel, t)\n"
      ]
    },
    {
      "cell_type": "code",
      "source": [
        "#@markdown This cell can be skipped, it's only to test the above functions\n",
        "\n",
        "pit = (80., 75.)\n",
        "pos0 = (0.,0.)\n",
        "vel = (1.,1.)\n",
        "\n",
        "print(f\"Minimum distance {min_dist(pit, pos0, vel)}\"\n",
        "        f\" is reached at time {closest(pit, pos0, vel)}\")"
      ],
      "metadata": {
        "id": "38BRzFTK5eey"
      },
      "execution_count": null,
      "outputs": []
    },
    {
      "cell_type": "code",
      "source": [
        "#@title Gradient Descent\n",
        "# Use jax to get a gradient for min_dist, w.r.t. vel\n",
        "\n",
        "d_min_dist_sq = grad(min_dist_sq, argnums=2)\n",
        "d_min_dist = grad(min_dist, argnums=2)\n",
        "\n",
        "# Parameters: initial conditions, and learning parameters\n",
        "# r: ball radius: if this distance from the pit is reached, the ball is in\n",
        "# lr: learning rate\n",
        "# mf: momentum factor\n",
        "def grad_descent(pit, pos0, vel, r, lr = 0.001, mf = 0.8):\n",
        "    passes = 0\n",
        "    g_old = d_min_dist(pit, pos0, vel)\n",
        "    while True:\n",
        "        g = d_min_dist(pit, pos0, vel)\n",
        "        delta = (g[0] * (1-mf) + g_old[0] * mf, g[1] * (1-mf) + g_old[1] * mf)\n",
        "\n",
        "        g_old = delta\n",
        "\n",
        "        vx, vy = vel\n",
        "        vx -= delta[0] * lr\n",
        "        vy -= delta[1] * lr\n",
        "        vel = (vx, vy)\n",
        "\n",
        "        d = min_dist(pit, pos0, vel)\n",
        "        passes += 1\n",
        "        print(f\"Pass {passes}, dist: {d}\")\n",
        "\n",
        "        if d < ball_radius:\n",
        "            print(f\"Ball reached target after {passes} passes\")\n",
        "            return passes\n",
        "        if passes == 75:\n",
        "            print(f\"Giving up after {passes} passes, closest was {d}\")\n",
        "            return passes"
      ],
      "metadata": {
        "id": "evXOPhXxo8Lo"
      },
      "execution_count": 3,
      "outputs": []
    },
    {
      "cell_type": "code",
      "source": [
        "#@title Run experiments\n",
        "# Perform gradient descent\n",
        "pit = (80., 75.)\n",
        "pos0 = (0.,0.)\n",
        "vel = (0.,1.)\n",
        "ball_radius = 0.5\n",
        "\n",
        "\n",
        "# To smoothen out heuristic space, multiple pits are tested:\n",
        "pits = ((80., 75.), (20, 99), (69, 60), (50, 50), (100, 1))\n",
        "\n",
        "# Learning rates and momentum factors to test\n",
        "lrs = (0.002, 0.0025, 0.003, 0.0035, 0.004, 0.0045, 0.005, 0.0055, 0.006, 0.0065, 0.007, 0.0075, 0.008)\n",
        "mfs = (0.0, 0.1, 0.2, 0.3, 0.4, 0.5, 0.6, 0.7, 0.8, 0.9)\n",
        "\n",
        "results = np.zeros((len(lrs), len(mfs), len(pits)))\n",
        "threads = []\n",
        "\n",
        "# Wrapper for multithreading\n",
        "class myThread(threading.Thread):\n",
        "    def __init__(self, i, j, p):\n",
        "        threading.Thread.__init__(self)\n",
        "        self.i = i\n",
        "        self.j = j\n",
        "        self.p = p\n",
        "\n",
        "    def run(self):\n",
        "        r = grad_descent(pits[self.p], pos0, vel,\\\n",
        "                         ball_radius, lrs[self.i], mfs[self.j])\n",
        "        results[self.i, self.j, self.p] = r\n",
        "\n",
        "def run_one_grad(pit, pos0, vel, r, lr, mf, i, j):\n",
        "    results[i,j] = grad_descent(pit, pos0, vel, r, lr, mf)\n",
        "\n",
        "# Start every experiment on a separate thread\n",
        "for i in range(len(lrs)):\n",
        "    line = []\n",
        "    for j in range(len(mfs)):\n",
        "        for p in range(len(pits)):\n",
        "            t = myThread(i,j,p)\n",
        "            t.start()\n",
        "            threads.append(t)\n",
        "\n",
        "# Wait for threads to finish\n",
        "for t in threads:\n",
        "    t.join()\n",
        "\n",
        "print(results)\n",
        "results = np.mean(results, axis=2)\n",
        "\n",
        "print(results)"
      ],
      "metadata": {
        "id": "17sojtBO5prf"
      },
      "execution_count": null,
      "outputs": []
    },
    {
      "cell_type": "code",
      "source": [
        "#@title Precalculated results\n",
        "#@markdown The code in this block can be used to skip running the experiments,\n",
        "#@markdown which can be a lengthy process. \\\n",
        "#@markdown This block is commented out so that it does not cause problems if all cells are run\n",
        "\n",
        "# Read results into an array without recalculating everything\n",
        "\n",
        "# lrs = (0.002, 0.0025, 0.003, 0.0035, 0.004, 0.0045, 0.005, 0.0055, 0.006, 0.0065, 0.007, 0.0075, 0.008)\n",
        "# mfs = (0.0, 0.1, 0.2, 0.3, 0.4, 0.5, 0.6, 0.7, 0.8, 0.9)\n",
        "\n",
        "# results = np.array([[34.85714286, 29.28571429, 45.85714286, 42.57142857, 32.28571429, 30.\n",
        "# ,  22.,  14.85714286, 22.85714286, 29.57142857]\n",
        "# , [34.57142857, 38.42857143, 26.42857143, 45.57142857, 35.14285714, 25.71428571\n",
        "# ,  23.,  15.57142857, 23.71428571, 41.42857143]\n",
        "# , [29.28571429, 37.,  35.71428571, 36.71428571, 38.71428571, 15.57142857\n",
        "# ,  16.57142857, 17.42857143, 24.42857143, 33.28571429]\n",
        "# , [29.28571429, 40.85714286, 40.,  23.42857143, 29.42857143, 18.42857143\n",
        "# ,  29.85714286, 29.42857143, 23.85714286, 34.57142857]\n",
        "# , [48.28571429, 36.14285714, 26.14285714, 21.,  11.71428571, 38.85714286\n",
        "# ,  15.85714286, 27.71428571, 19.28571429, 41.14285714]\n",
        "# , [25.42857143, 18.14285714, 27.,  53.85714286, 26.57142857, 24.85714286\n",
        "# ,  24.14285714, 14.14285714, 21.42857143, 31.42857143]\n",
        "# , [13.14285714, 19.28571429, 23.28571429, 32.28571429, 49.,  31.57142857\n",
        "# ,  17.71428571, 21.,  22.,  40.42857143]\n",
        "# , [20.14285714, 24.85714286, 39.71428571, 41.14285714, 28.28571429, 35.85714286\n",
        "# ,  37.57142857, 25.14285714, 25.14285714, 44.14285714]\n",
        "# , [26.85714286, 15.42857143, 23.42857143, 34.57142857, 44.14285714, 24.42857143\n",
        "# ,  29.57142857, 23.71428571, 17.57142857, 39.14285714]\n",
        "# , [11.28571429, 20.42857143, 15.,  47.57142857, 27.71428571, 17.85714286\n",
        "# ,  30.85714286, 21.,  20.42857143, 35.28571429]\n",
        "# , [20.57142857, 34.71428571, 21.42857143, 35.85714286, 33.28571429, 40.71428571\n",
        "# ,  33.,  19.42857143, 28.57142857, 38.71428571]\n",
        "# , [18.85714286, 13.14285714, 14.,  43.14285714, 16.,  18.57142857\n",
        "# ,  18.57142857, 15.,  25.14285714, 41.42857143]\n",
        "# , [12.71428571, 20.71428571, 34.,  25.71428571, 20.71428571, 26.\n",
        "# ,  21.42857143, 15.28571429, 26.42857143, 41.57142857]])\n",
        "\n",
        "# Narrowed range\n",
        "# lrs = (0.0065, 0.007, 0.0075, 0.008, 0.0085, 0.009, 0.0095, 0.01)\n",
        "# mfs = (0.0, 0.1, 0.2, 0.3)\n",
        "\n",
        "# results = np.array(\n",
        "# [[11.28571429, 20.42857143, 15., 47.57142857]\n",
        "# , [20.57142857, 34.71428571, 21.42857143, 35.85714286]\n",
        "# , [18.85714286, 13.14285714, 14., 43.14285714]\n",
        "# , [12.71428571, 20.71428571, 34., 25.71428571]\n",
        "# , [10.71428571, 12.71428571, 24.57142857, 30.14285714]\n",
        "# , [17.42857143, 21.57142857, 35.57142857, 33.28571429]\n",
        "# , [19.71428571, 37.71428571, 25.14285714, 22.57142857]\n",
        "# , [26.57142857, 39.28571429, 22.85714286, 14.42857143]])\n",
        "\n",
        "# print(results)"
      ],
      "metadata": {
        "id": "GEFFhu2hGJcZ"
      },
      "execution_count": null,
      "outputs": []
    },
    {
      "cell_type": "code",
      "source": [
        "fig, ax = plt.subplots()\n",
        "p = plt.imshow(results, cmap='hot', interpolation='nearest')\n",
        "\n",
        "x_ticks = [float(x) for x in range(len(mfs))]\n",
        "ax.set_xlabel(\"Momentum Factor\")\n",
        "ax.set_ylabel(\"Learning Rate\")\n",
        "ax.set_xticks(x_ticks)\n",
        "ax.set_xticklabels(mfs)\n",
        "\n",
        "y_ticks = [float(x) for x in range(len(lrs))]\n",
        "ax.set_yticks(y_ticks)\n",
        "ax.set_yticklabels(lrs)\n",
        "\n",
        "# plt.show()\n",
        "plt.savefig(\"minigolf_hmap_2.png\")"
      ],
      "metadata": {
        "colab": {
          "base_uri": "https://localhost:8080/",
          "height": 279
        },
        "id": "Sz1kkzRsYliy",
        "outputId": "f756bdae-be73-44e5-e07a-e78ea087ad8b"
      },
      "execution_count": 20,
      "outputs": [
        {
          "output_type": "display_data",
          "data": {
            "text/plain": [
              "<Figure size 432x288 with 1 Axes>"
            ],
            "image/png": "[encoded data removed]"
          },
          "metadata": {
            "needs_background": "light"
          }
        }
      ]
    },
    {
      "cell_type": "code",
      "source": [
        "m = np.min(results)\n",
        "print(m)"
      ],
      "metadata": {
        "colab": {
          "base_uri": "https://localhost:8080/"
        },
        "id": "TRE5HTwmqr99",
        "outputId": "82b523b5-5697-4672-86f8-13b0b77cb3e1"
      },
      "execution_count": null,
      "outputs": [
        {
          "output_type": "stream",
          "name": "stdout",
          "text": [
            "10.71428571\n"
          ]
        }
      ]
    },
    {
      "cell_type": "code",
      "source": [
        "def gauss1d(sigma, filter_length=11):\n",
        "    # INPUTS\n",
        "    # @ sigma         : sigma of gaussian distribution\n",
        "    # @ filter_length : integer denoting the filter length\n",
        "    # OUTPUTS\n",
        "    # @ gauss_filter  : 1D gaussian filter without normalization\n",
        "\n",
        "    rng = range(-int(filter_length/2),int(filter_length/2)+1)\n",
        "    gauss_filter = [np.exp((-x**2) / (2*sigma**2)) for x in rng]\n",
        "\n",
        "    # The formula used above has been given in the instruction.\n",
        "    return np.array(gauss_filter)\n",
        "\n",
        "g1 = gauss1d(1, 5).reshape((5,1))\n",
        "g1_t = np.transpose(g1)\n",
        "g2 = np.matmul(g1, g1_t)\n",
        "g2 = g2 / np.sum(g2)\n",
        "print(g2)\n"
      ],
      "metadata": {
        "id": "0GU8j82ps4Wi"
      },
      "execution_count": null,
      "outputs": []
    },
    {
      "cell_type": "code",
      "source": [
        "smooth_results = convolve(results, g2)\n",
        "print(smooth_results)\n",
        "print(np.min(smooth_results))\n",
        "\n",
        "plt.imshow(smooth_results, cmap='hot', interpolation='nearest')\n",
        "plt.show()"
      ],
      "metadata": {
        "colab": {
          "base_uri": "https://localhost:8080/",
          "height": 421
        },
        "id": "JtKYiVfCuzPP",
        "outputId": "aa43bb4c-7f65-4bda-e3bd-c4f7817789e7"
      },
      "execution_count": 15,
      "outputs": [
        {
          "output_type": "stream",
          "name": "stdout",
          "text": [
            "[[17.53741443 20.61260351 26.60468548 34.71254383]\n",
            " [19.25882988 21.59332549 26.40773914 33.06984768]\n",
            " [18.26895119 20.56597962 25.49206599 31.19480627]\n",
            " [16.04286649 19.58544385 25.23029917 29.5048215 ]\n",
            " [15.93293639 20.17617273 25.8791765  29.1444301 ]\n",
            " [19.58938104 23.49549738 27.23316788 28.56135858]\n",
            " [24.68877139 27.27480405 26.93891385 24.83462553]\n",
            " [28.16609315 29.30802094 25.65198161 20.87101673]]\n",
            "15.932936391475046\n"
          ]
        },
        {
          "output_type": "display_data",
          "data": {
            "text/plain": [
              "<Figure size 432x288 with 1 Axes>"
            ],
            "image/png": "[encoded data removed]"
          },
          "metadata": {
            "needs_background": "light"
          }
        }
      ]
    }
  ]
}